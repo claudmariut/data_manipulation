{
 "cells": [
  {
   "cell_type": "markdown",
   "id": "e9963094-a0ba-4776-b6e5-5c75df19f729",
   "metadata": {
    "tags": []
   },
   "source": [
    "# Learn NumPy Fundamentals (Python Library for Data Science)"
   ]
  },
  {
   "cell_type": "markdown",
   "id": "391575e3-6471-4416-af54-ab8aa7f9fd68",
   "metadata": {},
   "source": [
    "[This is the link to the course](https://www.udemy.com/course/python-numpy-fundamentals/)"
   ]
  },
  {
   "cell_type": "markdown",
   "id": "00794479-0450-4282-90c9-fd3d0375d2e7",
   "metadata": {},
   "source": [
    "## Index of contents"
   ]
  },
  {
   "cell_type": "markdown",
   "id": "c2430571-1bda-439f-8dab-bd414d624360",
   "metadata": {
    "tags": []
   },
   "source": [
    "* [Lesson 1](#lesson_1)\n",
    "* [Lesson 2](#lesson_2)\n",
    "* [Lesson 3](#lesson_3)\n",
    "* [Lesson 4](#lesson_4)\n",
    "* [Lesson 5](#lesson_5)"
   ]
  },
  {
   "cell_type": "markdown",
   "id": "fd6b3840-a378-41c3-9123-8b79a7c59cb1",
   "metadata": {
    "tags": []
   },
   "source": [
    "<a id='lesson_1'></a>\n",
    "**Lesson 1**"
   ]
  },
  {
   "cell_type": "code",
   "execution_count": 2,
   "id": "b57b074a-c337-4b5c-9d91-fbb03d142328",
   "metadata": {
    "tags": []
   },
   "outputs": [],
   "source": [
    "# This is the standard way to import numpy module\n",
    "import numpy as np"
   ]
  },
  {
   "cell_type": "code",
   "execution_count": 3,
   "id": "5665ae41-5ada-4a77-9439-daf256a726f9",
   "metadata": {
    "tags": []
   },
   "outputs": [
    {
     "name": "stdout",
     "output_type": "stream",
     "text": [
      "[1 2 3 4 5]\n"
     ]
    }
   ],
   "source": [
    "# Numpy arrays are homogeneous\n",
    "array_a = np.array([1,2,3,4,5]) # Operations using numpy array are much faster than std python lists.\n",
    "print(array_a)"
   ]
  },
  {
   "cell_type": "code",
   "execution_count": 4,
   "id": "d57c551d-d89b-4031-9247-880107a8e805",
   "metadata": {
    "tags": []
   },
   "outputs": [
    {
     "name": "stdout",
     "output_type": "stream",
     "text": [
      "[1, True, 3.5, 4, 'Hello']\n"
     ]
    }
   ],
   "source": [
    "# Python built-in list are heterogeneous arrays\n",
    "print([1,True,3.5,4,'Hello'])"
   ]
  },
  {
   "cell_type": "code",
   "execution_count": 5,
   "id": "9faf2082-fdaa-498c-9ab4-bc94f1d3d2bd",
   "metadata": {
    "tags": []
   },
   "outputs": [
    {
     "name": "stdout",
     "output_type": "stream",
     "text": [
      "(5,)\n"
     ]
    }
   ],
   "source": [
    "# Numpy arrays are dimensional. This operation returns tuple with #rows and #columns\n",
    "print(array_a.shape)"
   ]
  },
  {
   "cell_type": "code",
   "execution_count": 6,
   "id": "52aaca8d-2229-45bf-8a11-87e9eba417fd",
   "metadata": {
    "tags": []
   },
   "outputs": [
    {
     "name": "stdout",
     "output_type": "stream",
     "text": [
      "[[1 2 3 4 5]\n",
      " [1 2 3 4 5]]\n",
      "(2, 5)\n"
     ]
    }
   ],
   "source": [
    "# Two dimensional array of size 5\n",
    "array_b = np.array([[1, 2, 3, 4, 5],[1, 2, 3, 4, 5]])\n",
    "print(array_b)\n",
    "print(array_b.shape)"
   ]
  },
  {
   "cell_type": "code",
   "execution_count": 7,
   "id": "4cf3f07d-27f7-426e-a376-ce9ec1eaa10b",
   "metadata": {
    "tags": []
   },
   "outputs": [
    {
     "name": "stdout",
     "output_type": "stream",
     "text": [
      "10\n"
     ]
    }
   ],
   "source": [
    "# Returns #rows * #cols\n",
    "print(array_b.size)"
   ]
  },
  {
   "cell_type": "markdown",
   "id": "f058f972-c84d-4467-b4be-79c6de92df62",
   "metadata": {},
   "source": [
    "<a id='lesson_2'></a>\n",
    "**Lesson 2**"
   ]
  },
  {
   "cell_type": "code",
   "execution_count": 9,
   "id": "04b21d58-a6e5-46ab-9c36-82205bb5b1a3",
   "metadata": {
    "tags": []
   },
   "outputs": [],
   "source": [
    "# 3x3\n",
    "seq_a = [1, 2, 3]\n",
    "seq_b = [4, 5, 6]\n",
    "seq_c = ['7', 8, 9]  # String has the highest order of precedence\n",
    "seq_d = [10.5, 11, 12]  # Float has higher order than integer"
   ]
  },
  {
   "cell_type": "code",
   "execution_count": 10,
   "id": "206f76d4-552a-4ae5-a29c-a216d9da1cab",
   "metadata": {
    "tags": []
   },
   "outputs": [
    {
     "name": "stdout",
     "output_type": "stream",
     "text": [
      "[['1' '2' '3']\n",
      " ['4' '5' '6']\n",
      " ['7' '8' '9']\n",
      " ['10.5' '11' '12']]\n",
      "(4, 3)\n"
     ]
    }
   ],
   "source": [
    "# Array always transforms to higher order of precedence.\n",
    "array_abc = np.array([seq_a, seq_b, seq_c, seq_d])\n",
    "print(array_abc)\n",
    "print(array_abc.shape)"
   ]
  },
  {
   "cell_type": "code",
   "execution_count": 11,
   "id": "df066404-8721-4360-b7fd-2fc629de4554",
   "metadata": {
    "tags": []
   },
   "outputs": [
    {
     "name": "stdout",
     "output_type": "stream",
     "text": [
      "[ True  True  True]\n"
     ]
    }
   ],
   "source": [
    "a = [True, True, True]\n",
    "array_a = np.array(a)\n",
    "print(array_a)"
   ]
  },
  {
   "cell_type": "code",
   "execution_count": 12,
   "id": "0ae4cb73-7300-4284-bc69-880d592345e6",
   "metadata": {
    "tags": []
   },
   "outputs": [
    {
     "name": "stdout",
     "output_type": "stream",
     "text": [
      "[0 1 8]\n"
     ]
    }
   ],
   "source": [
    "# Boolean has lower level of precedence than integer. Then F=0 and T=1\n",
    "b = [False, True, 8]\n",
    "array_b = np.array(b)\n",
    "print(array_b)"
   ]
  },
  {
   "cell_type": "markdown",
   "id": "599095cc-e007-439e-bcb0-82f2c4fdbb60",
   "metadata": {},
   "source": [
    "<a id='lesson_3'></a>\n",
    "**Lesson 3**"
   ]
  },
  {
   "cell_type": "code",
   "execution_count": 13,
   "id": "7575fc71-e45d-4f61-b68e-3b522cbe948f",
   "metadata": {
    "tags": []
   },
   "outputs": [
    {
     "name": "stdout",
     "output_type": "stream",
     "text": [
      "(2, 3)\n",
      "6\n"
     ]
    }
   ],
   "source": [
    "array_a = np.array([[1, 2, 3],[4, 5, 6]])\n",
    "print(array_a.shape)\n",
    "print(array_a.size)"
   ]
  },
  {
   "cell_type": "code",
   "execution_count": 14,
   "id": "521ccede-a202-4c78-8ce6-03d9f99c1a16",
   "metadata": {
    "tags": []
   },
   "outputs": [
    {
     "name": "stdout",
     "output_type": "stream",
     "text": [
      "[[1 2]\n",
      " [3 4]\n",
      " [5 6]]\n"
     ]
    }
   ],
   "source": [
    "# Reshape method does not overwrite original array, only returns a copy of the new shape.\n",
    "array_b = array_a.reshape(3, 2)  # New shape need to be on same size as original.\n",
    "print(array_b)"
   ]
  },
  {
   "cell_type": "code",
   "execution_count": 15,
   "id": "5af07c35-4024-4b03-a8be-4247432377bf",
   "metadata": {
    "tags": []
   },
   "outputs": [
    {
     "name": "stdout",
     "output_type": "stream",
     "text": [
      "[[1 4]\n",
      " [2 5]\n",
      " [3 6]]\n"
     ]
    }
   ],
   "source": [
    "# Transpose will reshape exchanging #row by #col and grouping elements different than a manual reshape.\n",
    "array_c = array_a.T\n",
    "print(array_c)"
   ]
  },
  {
   "cell_type": "code",
   "execution_count": 16,
   "id": "2aafca20-618f-494a-aaa0-26413d0678e4",
   "metadata": {
    "tags": []
   },
   "outputs": [
    {
     "name": "stdout",
     "output_type": "stream",
     "text": [
      "[[1 4]\n",
      " [2 5]\n",
      " [3 6]]\n",
      "[[1 4]\n",
      " [2 5]\n",
      " [3 6]]\n",
      "[4 5 6]\n"
     ]
    }
   ],
   "source": [
    "# Returns of the array\n",
    "print(array_c[:])\n",
    "# Returns all rows and columns. THIS IS DIFFERENT THAN PYTHON LIST.\n",
    "print(array_c[:, :])\n",
    "# Returns all rows but only column 2 (Only column 2 in other words)\n",
    "print(array_c[:, 1])"
   ]
  },
  {
   "cell_type": "markdown",
   "id": "6437495e-b19e-41d6-981c-2fe53d4f3af2",
   "metadata": {},
   "source": [
    "_**Practice**_"
   ]
  },
  {
   "cell_type": "code",
   "execution_count": 17,
   "id": "cb574d91-618c-4a0a-a97b-0a00a8d4a5ee",
   "metadata": {
    "tags": []
   },
   "outputs": [
    {
     "name": "stdout",
     "output_type": "stream",
     "text": [
      "[[ 1  2  3  4]\n",
      " [ 5  6  7  8]\n",
      " [ 9 10 11 12]\n",
      " [13 14 15 16]]\n"
     ]
    }
   ],
   "source": [
    "array_a = np.array([[1,2,3,4],[5,6,7,8],[9,10,11,12],[13,14,15,16]])\n",
    "print(array_a)"
   ]
  },
  {
   "cell_type": "code",
   "execution_count": 18,
   "id": "e1e39e35-842e-4bf3-8193-7bd562a628fe",
   "metadata": {
    "tags": []
   },
   "outputs": [
    {
     "name": "stdout",
     "output_type": "stream",
     "text": [
      "[[ 1  2  3  4  5  6  7  8]\n",
      " [ 9 10 11 12 13 14 15 16]]\n"
     ]
    }
   ],
   "source": [
    "array_b = array_a.reshape(2, 8)\n",
    "print(array_b)"
   ]
  },
  {
   "cell_type": "code",
   "execution_count": 19,
   "id": "de3c91bd-98bf-4e3b-a953-86890d6280fc",
   "metadata": {
    "tags": []
   },
   "outputs": [
    {
     "name": "stdout",
     "output_type": "stream",
     "text": [
      "[[ 1  5  9 13]\n",
      " [ 2  6 10 14]\n",
      " [ 3  7 11 15]\n",
      " [ 4  8 12 16]]\n"
     ]
    }
   ],
   "source": [
    "array_c = array_a.T\n",
    "print(array_c)"
   ]
  },
  {
   "cell_type": "code",
   "execution_count": 20,
   "id": "7839c136-209d-4b16-8474-8e301ee2965e",
   "metadata": {
    "tags": []
   },
   "outputs": [
    {
     "name": "stdout",
     "output_type": "stream",
     "text": [
      "[[ 5  9]\n",
      " [ 6 10]\n",
      " [ 7 11]\n",
      " [ 8 12]]\n"
     ]
    }
   ],
   "source": [
    "# To print only the two columns in the middle\n",
    "print(array_c[:, 1:3])"
   ]
  },
  {
   "cell_type": "code",
   "execution_count": 21,
   "id": "860aa12e-5292-4d1f-aa65-2cee49e8b535",
   "metadata": {
    "tags": []
   },
   "outputs": [
    {
     "name": "stdout",
     "output_type": "stream",
     "text": [
      "[[ 2  6 10 14]\n",
      " [ 3  7 11 15]]\n"
     ]
    }
   ],
   "source": [
    "# To print only the two rows in the middle\n",
    "print(array_c[1:3, :])"
   ]
  },
  {
   "cell_type": "code",
   "execution_count": 22,
   "id": "a8a125a1-788b-4c59-bca7-c21ea9bba17a",
   "metadata": {
    "tags": []
   },
   "outputs": [
    {
     "name": "stdout",
     "output_type": "stream",
     "text": [
      "10\n"
     ]
    }
   ],
   "source": [
    "# From the second column starting at the end, return the second element in the column\n",
    "print(array_c[:, -2][1])"
   ]
  },
  {
   "cell_type": "markdown",
   "id": "64252e47-bf28-45aa-a20d-7316bd248e2a",
   "metadata": {},
   "source": [
    "<a id='lesson_4'></a>\n",
    "**Lesson 4**"
   ]
  },
  {
   "cell_type": "code",
   "execution_count": 23,
   "id": "669ee52e-d8b8-4026-b2e8-e7305fc21724",
   "metadata": {
    "tags": []
   },
   "outputs": [
    {
     "name": "stdout",
     "output_type": "stream",
     "text": [
      "[[1. 2. 3.]\n",
      " [4. 5. 6.]]\n"
     ]
    }
   ],
   "source": [
    "# The dtype argument allows to specify the data type of the array\n",
    "array_a = np.array([[1,2,3],[4,5,6]], dtype=float)\n",
    "print(array_a)"
   ]
  },
  {
   "cell_type": "code",
   "execution_count": 26,
   "id": "c7738df8-8155-4dcf-9f28-e4b620fb8505",
   "metadata": {
    "tags": []
   },
   "outputs": [
    {
     "name": "stdout",
     "output_type": "stream",
     "text": [
      "[[0. 0. 0.]\n",
      " [0. 0. 0.]\n",
      " [0. 0. 0.]]\n"
     ]
    }
   ],
   "source": [
    "# This method creates array of 0s of given shape\n",
    "array_b = np.zeros((3,3))\n",
    "print(array_b)"
   ]
  },
  {
   "cell_type": "code",
   "execution_count": 27,
   "id": "b9faef20-d24a-44c7-81e0-43138d7cf78f",
   "metadata": {
    "tags": []
   },
   "outputs": [
    {
     "name": "stdout",
     "output_type": "stream",
     "text": [
      "[[1. 1. 1.]\n",
      " [1. 1. 1.]\n",
      " [1. 1. 1.]]\n"
     ]
    }
   ],
   "source": [
    "# This method creates array of 1s of given shape\n",
    "array_c = np.ones((3,3))\n",
    "print(array_c)"
   ]
  },
  {
   "cell_type": "code",
   "execution_count": 28,
   "id": "0c457ebb-6724-4074-bd9f-d4eec1ea5a77",
   "metadata": {
    "tags": []
   },
   "outputs": [
    {
     "name": "stdout",
     "output_type": "stream",
     "text": [
      "[[ True  True  True]\n",
      " [ True  True  True]\n",
      " [ True  True  True]]\n"
     ]
    }
   ],
   "source": [
    "# This method allows to create array of a specific item. First argument is shape, second is the data.\n",
    "array_d = np.full((3,3), True)\n",
    "print(array_d)"
   ]
  },
  {
   "cell_type": "code",
   "execution_count": 33,
   "id": "6f94f261-ce7a-4e40-ae95-53bfe216baa6",
   "metadata": {
    "tags": []
   },
   "outputs": [
    {
     "name": "stdout",
     "output_type": "stream",
     "text": [
      "[[-34  45 -24]\n",
      " [ 21  17 -50]\n",
      " [-34 -47  45]]\n"
     ]
    }
   ],
   "source": [
    "# Creates random array of integers between first arguments, of shape third argument\n",
    "array_e = np.random.randint(-50, 50, (3, 3))\n",
    "print(array_e)"
   ]
  },
  {
   "cell_type": "code",
   "execution_count": 35,
   "id": "95b8f8e9-e249-4134-8d5f-a1741bc6ce9f",
   "metadata": {
    "tags": []
   },
   "outputs": [
    {
     "name": "stdout",
     "output_type": "stream",
     "text": [
      "[[0.15257217 0.56168217 0.91572999]\n",
      " [0.82057515 0.39695502 0.91472653]\n",
      " [0.51887161 0.9226915  0.45646453]]\n"
     ]
    }
   ],
   "source": [
    "# Created random floats between 0 and 1. Only takes shape as argument.\n",
    "array_f = np.random.random([3,3])\n",
    "print(array_f)"
   ]
  },
  {
   "cell_type": "markdown",
   "id": "8f848501-366a-499e-bae0-2ee52929d49a",
   "metadata": {},
   "source": [
    "**_Practice_**"
   ]
  },
  {
   "cell_type": "code",
   "execution_count": 36,
   "id": "064b8d08-f97d-4b6c-b1da-7be32fd1d541",
   "metadata": {
    "tags": []
   },
   "outputs": [
    {
     "name": "stdout",
     "output_type": "stream",
     "text": [
      "int16\n"
     ]
    },
    {
     "name": "stderr",
     "output_type": "stream",
     "text": [
      "C:\\Users\\cm-desktop\\AppData\\Local\\Temp\\ipykernel_26276\\2736945649.py:2: DeprecationWarning: NumPy will stop allowing conversion of out-of-bound Python integers to integer arrays.  The conversion of 32768 to int16 will fail in the future.\n",
      "For the old behavior, usually:\n",
      "    np.array(value).astype(dtype)\n",
      "will give the desired result (the cast overflows).\n",
      "  array_a = np.array([32766, 32767, 32768], dtype=np.int16)\n"
     ]
    }
   ],
   "source": [
    "# The third number will cause an overflow.\n",
    "array_a = np.array([32766, 32767, 32768], dtype=np.int16)\n",
    "# To print data type of a numpy array\n",
    "print(array_a.dtype)"
   ]
  },
  {
   "cell_type": "code",
   "execution_count": 37,
   "id": "7ebaf5e3-4157-49bc-b317-d8f824b39f8f",
   "metadata": {
    "tags": []
   },
   "outputs": [
    {
     "name": "stdout",
     "output_type": "stream",
     "text": [
      "[[65535     0     1]]\n"
     ]
    },
    {
     "name": "stderr",
     "output_type": "stream",
     "text": [
      "C:\\Users\\cm-desktop\\AppData\\Local\\Temp\\ipykernel_26276\\2377430693.py:2: DeprecationWarning: NumPy will stop allowing conversion of out-of-bound Python integers to integer arrays.  The conversion of -1 to uint16 will fail in the future.\n",
      "For the old behavior, usually:\n",
      "    np.array(value).astype(dtype)\n",
      "will give the desired result (the cast overflows).\n",
      "  array_b = np.array([[-1, 0, 1]], dtype=np.uint16)\n"
     ]
    }
   ],
   "source": [
    "# This will lead to an overflow because the data type is unsigned\n",
    "array_b = np.array([[-1, 0, 1]], dtype=np.uint16)\n",
    "print(array_b)"
   ]
  },
  {
   "cell_type": "code",
   "execution_count": null,
   "id": "cbb305f8-bc35-44c4-81a5-05702aaad1c7",
   "metadata": {},
   "outputs": [],
   "source": []
  }
 ],
 "metadata": {
  "kernelspec": {
   "display_name": "Python 3 (ipykernel)",
   "language": "python",
   "name": "python3"
  },
  "language_info": {
   "codemirror_mode": {
    "name": "ipython",
    "version": 3
   },
   "file_extension": ".py",
   "mimetype": "text/x-python",
   "name": "python",
   "nbconvert_exporter": "python",
   "pygments_lexer": "ipython3",
   "version": "3.11.5"
  }
 },
 "nbformat": 4,
 "nbformat_minor": 5
}
